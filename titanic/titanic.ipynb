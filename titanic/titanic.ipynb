{
 "cells": [
  {
   "cell_type": "code",
   "execution_count": 2,
   "metadata": {},
   "outputs": [],
   "source": [
    "import zipfile\n",
    "import pandas as pd\n",
    "import numpy as np\n",
    "\n",
    "from sklearn import linear_model\n",
    "from sklearn import metrics\n",
    "from sklearn.model_selection import train_test_split\n",
    "import sklearn.preprocessing as pre\n",
    "from sklearn import preprocessing"
   ]
  },
  {
   "cell_type": "code",
   "execution_count": 11,
   "metadata": {},
   "outputs": [],
   "source": [
    "# #import python machine learning kit\n",
    "# import sklearn as sk\n",
    "# #import logistic regression model specifically\n",
    "# from sklearn.linear_model import LogisticRegression\n",
    "\n",
    "# from sklearn.base import TransformerMixin as mix"
   ]
  },
  {
   "cell_type": "code",
   "execution_count": 7,
   "metadata": {},
   "outputs": [],
   "source": [
    "#creates instance of model with no parameters set - thus setting them all to their defaults\n",
    "#might not want this bit\n",
    "logisticRegr = LogisticRegression()"
   ]
  },
  {
   "cell_type": "code",
   "execution_count": 3,
   "metadata": {},
   "outputs": [],
   "source": [
    "#unzips\n",
    "zip_ref = zipfile.ZipFile('C:/Users/Josep/Python/git/inputs/all.zip')\n",
    "zip_ref.extractall(r\"C:/Users/Josep/Python/git/inputs/\")\n",
    "zip_ref.close()"
   ]
  },
  {
   "cell_type": "code",
   "execution_count": 4,
   "metadata": {},
   "outputs": [],
   "source": [
    "df=pd.read_csv('C:/Users/Josep/Python/git/inputs/train.csv')"
   ]
  },
  {
   "cell_type": "code",
   "execution_count": 5,
   "metadata": {},
   "outputs": [],
   "source": [
    "df=df.replace(to_replace={'male':'2','female':'1'})\n",
    "df=df.replace(to_replace={'C':'1','Q':'2','S':'3'})"
   ]
  },
  {
   "cell_type": "code",
   "execution_count": 6,
   "metadata": {},
   "outputs": [],
   "source": [
    "df2=df.drop(['Name','Ticket','Cabin','PassengerId','Survived'],axis=1)"
   ]
  },
  {
   "cell_type": "code",
   "execution_count": 7,
   "metadata": {},
   "outputs": [],
   "source": [
    "# converts all columns to float type data\n",
    "\n",
    "def convert(df,df_cols):\n",
    "    for col in df_cols:\n",
    "#         df[col]=pd.to_numeric(df[col])\n",
    "        df[col]=df[col].astype(float)\n",
    "\n",
    "cols_to_convert=['Pclass','Sex','Age','SibSp','Parch','Fare','Embarked']\n",
    "\n",
    "convert(df2,cols_to_convert)"
   ]
  },
  {
   "cell_type": "code",
   "execution_count": 8,
   "metadata": {},
   "outputs": [],
   "source": [
    "#replaces missing values with the mean score in their column\n",
    "\n",
    "def fill_blanks(df,df_cols):\n",
    "    for col in df_cols:\n",
    "        df[col]=df[col].fillna(df[col].mean())\n",
    "\n",
    "cols_to_fill_blanks=['Pclass','Sex','Age','SibSp','Parch','Fare','Embarked']\n",
    "\n",
    "fill_blanks(df2,cols_to_fill_blanks)"
   ]
  },
  {
   "cell_type": "code",
   "execution_count": 12,
   "metadata": {},
   "outputs": [],
   "source": [
    "#normalises values to figures between 0 and 1\n",
    "\n",
    "scaler=pre.MinMaxScaler()\n",
    "\n",
    "def scale(df,df_cols):\n",
    "    for col in df_cols:\n",
    "        df2[col]=scaler.fit_transform(df[col].values.reshape(-1,1))\n",
    "\n",
    "cols_to_scale=['Pclass','Sex','Age','SibSp','Parch','Fare','Embarked']\n",
    "\n",
    "scale(df2,cols_to_scale)"
   ]
  },
  {
   "cell_type": "code",
   "execution_count": 137,
   "metadata": {},
   "outputs": [
    {
     "data": {
      "text/html": [
       "<div>\n",
       "<style scoped>\n",
       "    .dataframe tbody tr th:only-of-type {\n",
       "        vertical-align: middle;\n",
       "    }\n",
       "\n",
       "    .dataframe tbody tr th {\n",
       "        vertical-align: top;\n",
       "    }\n",
       "\n",
       "    .dataframe thead th {\n",
       "        text-align: right;\n",
       "    }\n",
       "</style>\n",
       "<table border=\"1\" class=\"dataframe\">\n",
       "  <thead>\n",
       "    <tr style=\"text-align: right;\">\n",
       "      <th></th>\n",
       "      <th>Pclass</th>\n",
       "      <th>Sex</th>\n",
       "      <th>Age</th>\n",
       "      <th>SibSp</th>\n",
       "      <th>Parch</th>\n",
       "      <th>Fare</th>\n",
       "      <th>Embarked</th>\n",
       "    </tr>\n",
       "  </thead>\n",
       "  <tbody>\n",
       "    <tr>\n",
       "      <th>Pclass</th>\n",
       "      <td>1.000000</td>\n",
       "      <td>0.135775</td>\n",
       "      <td>-0.308875</td>\n",
       "      <td>-0.043019</td>\n",
       "      <td>-0.022801</td>\n",
       "      <td>-0.688032</td>\n",
       "      <td>0.097063</td>\n",
       "    </tr>\n",
       "    <tr>\n",
       "      <th>Sex</th>\n",
       "      <td>0.135775</td>\n",
       "      <td>1.000000</td>\n",
       "      <td>0.067809</td>\n",
       "      <td>-0.195204</td>\n",
       "      <td>-0.254512</td>\n",
       "      <td>-0.259593</td>\n",
       "      <td>0.120217</td>\n",
       "    </tr>\n",
       "    <tr>\n",
       "      <th>Age</th>\n",
       "      <td>-0.308875</td>\n",
       "      <td>0.067809</td>\n",
       "      <td>1.000000</td>\n",
       "      <td>-0.147035</td>\n",
       "      <td>-0.217290</td>\n",
       "      <td>0.118847</td>\n",
       "      <td>-0.029127</td>\n",
       "    </tr>\n",
       "    <tr>\n",
       "      <th>SibSp</th>\n",
       "      <td>-0.043019</td>\n",
       "      <td>-0.195204</td>\n",
       "      <td>-0.147035</td>\n",
       "      <td>1.000000</td>\n",
       "      <td>0.450014</td>\n",
       "      <td>0.447113</td>\n",
       "      <td>0.013582</td>\n",
       "    </tr>\n",
       "    <tr>\n",
       "      <th>Parch</th>\n",
       "      <td>-0.022801</td>\n",
       "      <td>-0.254512</td>\n",
       "      <td>-0.217290</td>\n",
       "      <td>0.450014</td>\n",
       "      <td>1.000000</td>\n",
       "      <td>0.410074</td>\n",
       "      <td>0.030372</td>\n",
       "    </tr>\n",
       "    <tr>\n",
       "      <th>Fare</th>\n",
       "      <td>-0.688032</td>\n",
       "      <td>-0.259593</td>\n",
       "      <td>0.118847</td>\n",
       "      <td>0.447113</td>\n",
       "      <td>0.410074</td>\n",
       "      <td>1.000000</td>\n",
       "      <td>-0.079909</td>\n",
       "    </tr>\n",
       "    <tr>\n",
       "      <th>Embarked</th>\n",
       "      <td>0.097063</td>\n",
       "      <td>0.120217</td>\n",
       "      <td>-0.029127</td>\n",
       "      <td>0.013582</td>\n",
       "      <td>0.030372</td>\n",
       "      <td>-0.079909</td>\n",
       "      <td>1.000000</td>\n",
       "    </tr>\n",
       "  </tbody>\n",
       "</table>\n",
       "</div>"
      ],
      "text/plain": [
       "            Pclass       Sex       Age     SibSp     Parch      Fare  Embarked\n",
       "Pclass    1.000000  0.135775 -0.308875 -0.043019 -0.022801 -0.688032  0.097063\n",
       "Sex       0.135775  1.000000  0.067809 -0.195204 -0.254512 -0.259593  0.120217\n",
       "Age      -0.308875  0.067809  1.000000 -0.147035 -0.217290  0.118847 -0.029127\n",
       "SibSp    -0.043019 -0.195204 -0.147035  1.000000  0.450014  0.447113  0.013582\n",
       "Parch    -0.022801 -0.254512 -0.217290  0.450014  1.000000  0.410074  0.030372\n",
       "Fare     -0.688032 -0.259593  0.118847  0.447113  0.410074  1.000000 -0.079909\n",
       "Embarked  0.097063  0.120217 -0.029127  0.013582  0.030372 -0.079909  1.000000"
      ]
     },
     "execution_count": 137,
     "metadata": {},
     "output_type": "execute_result"
    }
   ],
   "source": [
    "df2.corr(method='spearman')"
   ]
  },
  {
   "cell_type": "code",
   "execution_count": null,
   "metadata": {},
   "outputs": [],
   "source": [
    "train,test=train_test_split(df2)"
   ]
  }
 ],
 "metadata": {
  "kernelspec": {
   "display_name": "Python 3",
   "language": "python",
   "name": "python3"
  },
  "language_info": {
   "codemirror_mode": {
    "name": "ipython",
    "version": 3
   },
   "file_extension": ".py",
   "mimetype": "text/x-python",
   "name": "python",
   "nbconvert_exporter": "python",
   "pygments_lexer": "ipython3",
   "version": "3.6.5"
  }
 },
 "nbformat": 4,
 "nbformat_minor": 2
}
