{
 "cells": [
  {
   "cell_type": "code",
   "execution_count": 1,
   "metadata": {},
   "outputs": [],
   "source": [
    "import zipfile\n",
    "import pandas as pd\n",
    "import numpy as np\n",
    "import pickle\n",
    "from sklearn import linear_model\n",
    "from sklearn import metrics\n",
    "from sklearn.model_selection import train_test_split\n",
    "from sklearn.linear_model import LogisticRegression\n",
    "import sklearn.preprocessing as pre\n",
    "from sklearn import preprocessing"
   ]
  },
  {
   "cell_type": "code",
   "execution_count": 2,
   "metadata": {},
   "outputs": [],
   "source": [
    "#creates instance of model with no parameters set - thus setting them all to their defaults\n",
    "model = LogisticRegression()"
   ]
  },
  {
   "cell_type": "code",
   "execution_count": 3,
   "metadata": {},
   "outputs": [],
   "source": [
    "#unzips\n",
    "zip_ref = zipfile.ZipFile('C:/Users/Josep/Python/titanic/inputs/all.zip')\n",
    "zip_ref.extractall(r\"C:/Users/Josep/Python/titanic/inputs/\")\n",
    "zip_ref.close()"
   ]
  },
  {
   "cell_type": "code",
   "execution_count": 56,
   "metadata": {},
   "outputs": [],
   "source": [
    "df=pd.read_csv('C:/Users/Josep/Python/titanic/inputs/train.csv')"
   ]
  },
  {
   "cell_type": "code",
   "execution_count": 57,
   "metadata": {},
   "outputs": [],
   "source": [
    "# converts to numerics\n",
    "df=df.replace(to_replace={'male':'2','female':'1'})\n",
    "df=df.replace(to_replace={'C':'1','Q':'2','S':'3'})\n",
    "df.set_index('PassengerId',inplace=True)"
   ]
  },
  {
   "cell_type": "code",
   "execution_count": 58,
   "metadata": {},
   "outputs": [],
   "source": [
    "df2=df.drop(['Name','Ticket','Cabin'],axis=1)"
   ]
  },
  {
   "cell_type": "code",
   "execution_count": 59,
   "metadata": {},
   "outputs": [],
   "source": [
    "# converts all columns to float type data\n",
    "\n",
    "def convert(df,df_cols):\n",
    "    for col in df_cols:\n",
    "#         df[col]=pd.to_numeric(df[col])\n",
    "        df[col]=df[col].astype(float)\n",
    "\n",
    "cols_to_convert=['Pclass','Sex','Age','SibSp','Parch','Fare','Embarked','Survived']\n",
    "\n",
    "convert(df2,cols_to_convert)"
   ]
  },
  {
   "cell_type": "code",
   "execution_count": 8,
   "metadata": {},
   "outputs": [],
   "source": [
    "#replaces missing values with the mean score in their column\n",
    "\n",
    "def fill_blanks(df,df_cols):\n",
    "    for col in df_cols:\n",
    "        df[col]=df[col].fillna(df[col].mean())\n",
    "\n",
    "cols_to_fill_blanks=['Pclass','Sex','Age','SibSp','Parch','Fare','Embarked','Survived']\n",
    "\n",
    "fill_blanks(df2,cols_to_fill_blanks)"
   ]
  },
  {
   "cell_type": "code",
   "execution_count": 9,
   "metadata": {},
   "outputs": [],
   "source": [
    "#normalises values to figures between 0 and 1\n",
    "\n",
    "scaler=pre.MinMaxScaler()\n",
    "\n",
    "def scale(df,df_cols):\n",
    "    for col in df_cols:\n",
    "        df2[col]=scaler.fit_transform(df[col].values.reshape(-1,1))\n",
    "\n",
    "cols_to_scale=['Pclass','Sex','Age','SibSp','Parch','Fare','Embarked','Survived']\n",
    "\n",
    "scale(df2,cols_to_scale)"
   ]
  },
  {
   "cell_type": "code",
   "execution_count": 10,
   "metadata": {},
   "outputs": [
    {
     "data": {
      "text/html": [
       "<div>\n",
       "<style scoped>\n",
       "    .dataframe tbody tr th:only-of-type {\n",
       "        vertical-align: middle;\n",
       "    }\n",
       "\n",
       "    .dataframe tbody tr th {\n",
       "        vertical-align: top;\n",
       "    }\n",
       "\n",
       "    .dataframe thead th {\n",
       "        text-align: right;\n",
       "    }\n",
       "</style>\n",
       "<table border=\"1\" class=\"dataframe\">\n",
       "  <thead>\n",
       "    <tr style=\"text-align: right;\">\n",
       "      <th></th>\n",
       "      <th>Survived</th>\n",
       "      <th>Pclass</th>\n",
       "      <th>Sex</th>\n",
       "      <th>Age</th>\n",
       "      <th>SibSp</th>\n",
       "      <th>Parch</th>\n",
       "      <th>Fare</th>\n",
       "      <th>Embarked</th>\n",
       "    </tr>\n",
       "  </thead>\n",
       "  <tbody>\n",
       "    <tr>\n",
       "      <th>Survived</th>\n",
       "      <td>1.000000</td>\n",
       "      <td>-0.339668</td>\n",
       "      <td>-0.543351</td>\n",
       "      <td>-0.039109</td>\n",
       "      <td>0.088879</td>\n",
       "      <td>0.138266</td>\n",
       "      <td>0.323736</td>\n",
       "      <td>-0.164621</td>\n",
       "    </tr>\n",
       "    <tr>\n",
       "      <th>Pclass</th>\n",
       "      <td>-0.339668</td>\n",
       "      <td>1.000000</td>\n",
       "      <td>0.135775</td>\n",
       "      <td>-0.308875</td>\n",
       "      <td>-0.043019</td>\n",
       "      <td>-0.022801</td>\n",
       "      <td>-0.688032</td>\n",
       "      <td>0.097063</td>\n",
       "    </tr>\n",
       "    <tr>\n",
       "      <th>Sex</th>\n",
       "      <td>-0.543351</td>\n",
       "      <td>0.135775</td>\n",
       "      <td>1.000000</td>\n",
       "      <td>0.067809</td>\n",
       "      <td>-0.195204</td>\n",
       "      <td>-0.254512</td>\n",
       "      <td>-0.259593</td>\n",
       "      <td>0.120217</td>\n",
       "    </tr>\n",
       "    <tr>\n",
       "      <th>Age</th>\n",
       "      <td>-0.039109</td>\n",
       "      <td>-0.308875</td>\n",
       "      <td>0.067809</td>\n",
       "      <td>1.000000</td>\n",
       "      <td>-0.147035</td>\n",
       "      <td>-0.217290</td>\n",
       "      <td>0.118847</td>\n",
       "      <td>-0.029127</td>\n",
       "    </tr>\n",
       "    <tr>\n",
       "      <th>SibSp</th>\n",
       "      <td>0.088879</td>\n",
       "      <td>-0.043019</td>\n",
       "      <td>-0.195204</td>\n",
       "      <td>-0.147035</td>\n",
       "      <td>1.000000</td>\n",
       "      <td>0.450014</td>\n",
       "      <td>0.447113</td>\n",
       "      <td>0.013582</td>\n",
       "    </tr>\n",
       "    <tr>\n",
       "      <th>Parch</th>\n",
       "      <td>0.138266</td>\n",
       "      <td>-0.022801</td>\n",
       "      <td>-0.254512</td>\n",
       "      <td>-0.217290</td>\n",
       "      <td>0.450014</td>\n",
       "      <td>1.000000</td>\n",
       "      <td>0.410074</td>\n",
       "      <td>0.030372</td>\n",
       "    </tr>\n",
       "    <tr>\n",
       "      <th>Fare</th>\n",
       "      <td>0.323736</td>\n",
       "      <td>-0.688032</td>\n",
       "      <td>-0.259593</td>\n",
       "      <td>0.118847</td>\n",
       "      <td>0.447113</td>\n",
       "      <td>0.410074</td>\n",
       "      <td>1.000000</td>\n",
       "      <td>-0.079909</td>\n",
       "    </tr>\n",
       "    <tr>\n",
       "      <th>Embarked</th>\n",
       "      <td>-0.164621</td>\n",
       "      <td>0.097063</td>\n",
       "      <td>0.120217</td>\n",
       "      <td>-0.029127</td>\n",
       "      <td>0.013582</td>\n",
       "      <td>0.030372</td>\n",
       "      <td>-0.079909</td>\n",
       "      <td>1.000000</td>\n",
       "    </tr>\n",
       "  </tbody>\n",
       "</table>\n",
       "</div>"
      ],
      "text/plain": [
       "          Survived    Pclass       Sex       Age     SibSp     Parch  \\\n",
       "Survived  1.000000 -0.339668 -0.543351 -0.039109  0.088879  0.138266   \n",
       "Pclass   -0.339668  1.000000  0.135775 -0.308875 -0.043019 -0.022801   \n",
       "Sex      -0.543351  0.135775  1.000000  0.067809 -0.195204 -0.254512   \n",
       "Age      -0.039109 -0.308875  0.067809  1.000000 -0.147035 -0.217290   \n",
       "SibSp     0.088879 -0.043019 -0.195204 -0.147035  1.000000  0.450014   \n",
       "Parch     0.138266 -0.022801 -0.254512 -0.217290  0.450014  1.000000   \n",
       "Fare      0.323736 -0.688032 -0.259593  0.118847  0.447113  0.410074   \n",
       "Embarked -0.164621  0.097063  0.120217 -0.029127  0.013582  0.030372   \n",
       "\n",
       "              Fare  Embarked  \n",
       "Survived  0.323736 -0.164621  \n",
       "Pclass   -0.688032  0.097063  \n",
       "Sex      -0.259593  0.120217  \n",
       "Age       0.118847 -0.029127  \n",
       "SibSp     0.447113  0.013582  \n",
       "Parch     0.410074  0.030372  \n",
       "Fare      1.000000 -0.079909  \n",
       "Embarked -0.079909  1.000000  "
      ]
     },
     "execution_count": 10,
     "metadata": {},
     "output_type": "execute_result"
    }
   ],
   "source": [
    "# quick look at correlations\n",
    "df2.corr(method='spearman')"
   ]
  },
  {
   "cell_type": "code",
   "execution_count": 11,
   "metadata": {},
   "outputs": [],
   "source": [
    "# splits df into x (predicting features) and y (the thing to predict)\n",
    "x=df2.drop(['Survived'],axis=1)\n",
    "# y=df2.drop(['Pclass', 'Sex', 'Age', 'SibSp', 'Parch', 'Fare','Embarked'],axis=1)\n",
    "y=df2['Survived']"
   ]
  },
  {
   "cell_type": "code",
   "execution_count": 12,
   "metadata": {},
   "outputs": [],
   "source": [
    "# splits into train and test - needs to test on unseen data\n",
    "x_train,x_test,y_train,y_test=train_test_split(x,y)"
   ]
  },
  {
   "cell_type": "code",
   "execution_count": 13,
   "metadata": {},
   "outputs": [],
   "source": [
    "# trains the model\n",
    "attempt=model.fit(x_train, y_train)"
   ]
  },
  {
   "cell_type": "code",
   "execution_count": 14,
   "metadata": {},
   "outputs": [],
   "source": [
    "# makes the prediction based off of the saved model\n",
    "result=attempt.predict(x_test)"
   ]
  },
  {
   "cell_type": "code",
   "execution_count": 15,
   "metadata": {},
   "outputs": [],
   "source": [
    "# converts result to dataframe\n",
    "# result_df=pd.DataFrame(result)\n",
    "# result_df.columns=['prediction']\n",
    "\n",
    "# converts both the array of actual results, and the predicted result, into a dataframe\n",
    "y_df=pd.DataFrame(y_test)\n",
    "y_df.columns=['actual_result']\n",
    "\n",
    "y_df['prediction']=result"
   ]
  },
  {
   "cell_type": "code",
   "execution_count": 16,
   "metadata": {},
   "outputs": [
    {
     "data": {
      "text/plain": [
       "True     171\n",
       "False     52\n",
       "dtype: int64"
      ]
     },
     "execution_count": 16,
     "metadata": {},
     "output_type": "execute_result"
    }
   ],
   "source": [
    "# creates boleans to show right vs wrong\n",
    "successes=y_df['actual_result']==y_df['prediction']\n",
    "\n",
    "successes.value_counts()"
   ]
  },
  {
   "cell_type": "code",
   "execution_count": 18,
   "metadata": {},
   "outputs": [],
   "source": [
    "# saves the model\n",
    "file_name='titanic_predictor.sav'\n",
    "pickle.dump(attempt,open(file_name,'wb'))\n",
    "predictor=pickle.load(open(file_name, 'rb'))"
   ]
  },
  {
   "cell_type": "markdown",
   "metadata": {},
   "source": [
    "## Actual test prediction"
   ]
  },
  {
   "cell_type": "code",
   "execution_count": 73,
   "metadata": {},
   "outputs": [],
   "source": [
    "# imports the actual test dataframe that gets submitted to kaggle\n",
    "df=pd.read_csv('C:/Users/Josep/Python/titanic/inputs/test.csv')"
   ]
  },
  {
   "cell_type": "code",
   "execution_count": 74,
   "metadata": {},
   "outputs": [],
   "source": [
    "# converts to numerics\n",
    "df=df.replace(to_replace={'male':'2','female':'1'})\n",
    "df=df.replace(to_replace={'C':'1','Q':'2','S':'3'})\n",
    "df.set_index('PassengerId',inplace=True)"
   ]
  },
  {
   "cell_type": "code",
   "execution_count": 75,
   "metadata": {},
   "outputs": [],
   "source": [
    "df2=df.drop(['Name','Ticket','Cabin'],axis=1)"
   ]
  },
  {
   "cell_type": "code",
   "execution_count": 76,
   "metadata": {},
   "outputs": [],
   "source": [
    "# converts all columns to float type data\n",
    "\n",
    "def convert(df,df_cols):\n",
    "    for col in df_cols:\n",
    "#         df[col]=pd.to_numeric(df[col])\n",
    "        df[col]=df[col].astype(float)\n",
    "\n",
    "cols_to_convert=['Pclass','Sex','Age','SibSp','Parch','Fare','Embarked']\n",
    "\n",
    "convert(df2,cols_to_convert)"
   ]
  },
  {
   "cell_type": "code",
   "execution_count": 77,
   "metadata": {},
   "outputs": [],
   "source": [
    "#replaces missing values with the mean score in their column\n",
    "\n",
    "def fill_blanks(df,df_cols):\n",
    "    for col in df_cols:\n",
    "        df[col]=df[col].fillna(df[col].mean())\n",
    "\n",
    "cols_to_fill_blanks=['Pclass','Sex','Age','SibSp','Parch','Fare','Embarked']\n",
    "\n",
    "fill_blanks(df2,cols_to_fill_blanks)"
   ]
  },
  {
   "cell_type": "code",
   "execution_count": 78,
   "metadata": {},
   "outputs": [],
   "source": [
    "#normalises values to figures between 0 and 1\n",
    "\n",
    "scaler=pre.MinMaxScaler()\n",
    "\n",
    "def scale(df,df_cols):\n",
    "    for col in df_cols:\n",
    "        df2[col]=scaler.fit_transform(df[col].values.reshape(-1,1))\n",
    "\n",
    "cols_to_scale=['Pclass','Sex','Age','SibSp','Parch','Fare','Embarked']\n",
    "\n",
    "scale(df2,cols_to_scale)"
   ]
  },
  {
   "cell_type": "code",
   "execution_count": 79,
   "metadata": {},
   "outputs": [],
   "source": [
    "result=attempt.predict(df2)"
   ]
  },
  {
   "cell_type": "code",
   "execution_count": 80,
   "metadata": {},
   "outputs": [],
   "source": [
    "output=df2\n",
    "output['Survived']=result\n",
    "output.drop(['Pclass', 'Sex', 'Age', 'SibSp', 'Parch', 'Fare', 'Embarked'],axis=1,inplace=True)\n",
    "output['Survived']=output['Survived'].astype(int)"
   ]
  },
  {
   "cell_type": "code",
   "execution_count": 82,
   "metadata": {},
   "outputs": [],
   "source": [
    "output.to_csv('C:/Users/Josep/Python/titanic/predictions.csv')"
   ]
  }
 ],
 "metadata": {
  "kernelspec": {
   "display_name": "Python 3",
   "language": "python",
   "name": "python3"
  },
  "language_info": {
   "codemirror_mode": {
    "name": "ipython",
    "version": 3
   },
   "file_extension": ".py",
   "mimetype": "text/x-python",
   "name": "python",
   "nbconvert_exporter": "python",
   "pygments_lexer": "ipython3",
   "version": "3.6.5"
  }
 },
 "nbformat": 4,
 "nbformat_minor": 2
}
