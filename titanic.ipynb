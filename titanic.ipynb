{
 "cells": [
  {
   "cell_type": "code",
   "execution_count": 1,
   "metadata": {},
   "outputs": [],
   "source": [
    "import pandas as pd\n",
    "import numpy as np\n",
    "import pickle\n",
    "from sklearn import metrics\n",
    "from sklearn.model_selection import KFold, cross_val_score\n",
    "from sklearn.linear_model import LogisticRegression\n",
    "import sklearn.preprocessing as pre\n",
    "from sklearn.impute import SimpleImputer\n",
    "\n",
    "import matplotlib.pyplot as plt\n",
    "import seaborn as sns"
   ]
  },
  {
   "cell_type": "code",
   "execution_count": 2,
   "metadata": {},
   "outputs": [],
   "source": [
    "train_x = pd.read_csv('datafiles/train.csv', index_col = 'PassengerId',\n",
    "                    usecols = ['PassengerId',\n",
    "                               'Pclass', \n",
    "                               'Sex', \n",
    "                               'Age', \n",
    "                               'SibSp', \n",
    "                               'Parch', \n",
    "                               'Embarked'])\n",
    "train_x.columns = [i.lower() for i in train_x.columns]\n",
    "\n",
    "train_y = pd.read_csv('datafiles/train.csv', index_col = 'PassengerId',\n",
    "                      usecols = ['PassengerId', 'Survived'])"
   ]
  },
  {
   "cell_type": "code",
   "execution_count": 3,
   "metadata": {},
   "outputs": [],
   "source": [
    "# converts to numerics\n",
    "train_x['sex'] = train_x['sex'].replace({'male':'0','female':'1'})\n",
    "train_x['embarked'] = train_x['embarked'].replace({'C':'0','Q':'1','S':'2'})"
   ]
  },
  {
   "cell_type": "code",
   "execution_count": 18,
   "metadata": {},
   "outputs": [
    {
     "name": "stdout",
     "output_type": "stream",
     "text": [
      "38.38% passengers survived - we need to be more accurate than this\n"
     ]
    }
   ],
   "source": [
    "# what is the proportion of survived/died in the dataset?\n",
    "percent_survived = round(len(train_y[train_y['Survived'] == 1]) / len(train_y) * 100,2)\n",
    "print(str(percent_survived)+\"% passengers survived - we need to be more accurate than this\")\n",
    "# since it's unbalanced we will use a confusion matrix"
   ]
  },
  {
   "cell_type": "code",
   "execution_count": 5,
   "metadata": {},
   "outputs": [],
   "source": [
    "# fill nans with mean on the column\n",
    "filler = SimpleImputer()\n",
    "filled = filler.fit_transform(train_x)\n",
    "filled_x = pd.DataFrame(filled, train_x.index, train_x.columns)\n",
    "\n",
    "with open(\"fillnas.pkl\", mode = \"wb\") as file:\n",
    "    pickle.dump(filler, file)"
   ]
  },
  {
   "cell_type": "code",
   "execution_count": 6,
   "metadata": {},
   "outputs": [],
   "source": [
    "# scale all columns to be between 0 and 1\n",
    "scaler = pre.MinMaxScaler()\n",
    "scaled = scaler.fit_transform(filled_x)\n",
    "scaled_x = pd.DataFrame(scaled, filled_x.index, filled_x.columns)\n",
    "\n",
    "with open(\"scaler.pkl\", mode = \"wb\") as file:\n",
    "    pickle.dump(scaler, file)"
   ]
  },
  {
   "cell_type": "code",
   "execution_count": 7,
   "metadata": {},
   "outputs": [
    {
     "data": {
      "image/png": "[encoded data removed]",
      "text/plain": [
       "<Figure size 864x576 with 2 Axes>"
      ]
     },
     "metadata": {
      "needs_background": "light"
     },
     "output_type": "display_data"
    }
   ],
   "source": [
    "# quick look at correlations\n",
    "plt.figure(figsize = (12,8))\n",
    "sns.heatmap(scaled_x.corr(), annot = True)\n",
    "plt.show()"
   ]
  },
  {
   "cell_type": "code",
   "execution_count": 21,
   "metadata": {},
   "outputs": [],
   "source": [
    "reg = LogisticRegression(solver = 'liblinear')"
   ]
  },
  {
   "cell_type": "code",
   "execution_count": 22,
   "metadata": {},
   "outputs": [
    {
     "name": "stdout",
     "output_type": "stream",
     "text": [
      "0.6928388746803069\n"
     ]
    }
   ],
   "source": [
    "# cross validation\n",
    "scores = cross_val_score(reg, scaled_x, np.ravel(train_y), cv = 5, \n",
    "                         scoring = 'recall') # we're using recall because there are fewer positives than negatives\n",
    "                                             # so we need to be careful we don't just inflate accuracy by predicting negatives\n",
    "print(scores.mean())"
   ]
  },
  {
   "cell_type": "code",
   "execution_count": 10,
   "metadata": {},
   "outputs": [
    {
     "data": {
      "text/plain": [
       "LogisticRegression(C=1.0, class_weight=None, dual=False, fit_intercept=True,\n",
       "                   intercept_scaling=1, l1_ratio=None, max_iter=100,\n",
       "                   multi_class='warn', n_jobs=None, penalty='l2',\n",
       "                   random_state=None, solver='liblinear', tol=0.0001, verbose=0,\n",
       "                   warm_start=False)"
      ]
     },
     "execution_count": 10,
     "metadata": {},
     "output_type": "execute_result"
    }
   ],
   "source": [
    "# trains the model\n",
    "reg.fit(scaled_x, np.ravel(train_y))"
   ]
  },
  {
   "cell_type": "code",
   "execution_count": 11,
   "metadata": {},
   "outputs": [],
   "source": [
    "# saves the model\n",
    "with open(\"logistic_regression.pkl\", mode = \"wb\") as file:\n",
    "    pickle.dump(reg, file)"
   ]
  },
  {
   "cell_type": "markdown",
   "metadata": {},
   "source": [
    "## Predictions"
   ]
  },
  {
   "cell_type": "code",
   "execution_count": 12,
   "metadata": {},
   "outputs": [],
   "source": [
    "# imports the actual test dataframe that gets submitted to kaggle\n",
    "test = pd.read_csv('datafiles/test.csv', index_col = 'PassengerId',\n",
    "                    usecols = ['PassengerId',\n",
    "                               'Pclass', \n",
    "                               'Sex', \n",
    "                               'Age', \n",
    "                               'SibSp', \n",
    "                               'Parch', \n",
    "                               'Embarked'])\n",
    "test.columns = [i.lower() for i in test.columns]"
   ]
  },
  {
   "cell_type": "code",
   "execution_count": 13,
   "metadata": {},
   "outputs": [],
   "source": [
    "# converts to numerics\n",
    "test['sex'] = test['sex'].replace({'male':'0','female':'1'})\n",
    "test['embarked'] = test['embarked'].replace({'C':'0','Q':'1','S':'2'})"
   ]
  },
  {
   "cell_type": "code",
   "execution_count": 14,
   "metadata": {},
   "outputs": [],
   "source": [
    "filled = pd.DataFrame(filler.transform(test), test.index, test.columns)\n",
    "scaled = pd.DataFrame(scaler.transform(filled), filled.index, filled.columns)"
   ]
  },
  {
   "cell_type": "code",
   "execution_count": 15,
   "metadata": {},
   "outputs": [],
   "source": [
    "result = reg.predict(scaled)"
   ]
  },
  {
   "cell_type": "code",
   "execution_count": 16,
   "metadata": {},
   "outputs": [],
   "source": [
    "output=pd.DataFrame(result, index = test.index, columns = ['Survived'])"
   ]
  },
  {
   "cell_type": "code",
   "execution_count": 17,
   "metadata": {},
   "outputs": [],
   "source": [
    "output.to_csv('datafiles/predictions.csv')"
   ]
  }
 ],
 "metadata": {
  "kernelspec": {
   "display_name": "Python 3",
   "language": "python",
   "name": "python3"
  },
  "language_info": {
   "codemirror_mode": {
    "name": "ipython",
    "version": 3
   },
   "file_extension": ".py",
   "mimetype": "text/x-python",
   "name": "python",
   "nbconvert_exporter": "python",
   "pygments_lexer": "ipython3",
   "version": "3.7.1"
  }
 },
 "nbformat": 4,
 "nbformat_minor": 2
}
